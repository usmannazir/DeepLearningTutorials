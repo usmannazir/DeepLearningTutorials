{
 "cells": [
  {
   "cell_type": "markdown",
   "metadata": {},
   "source": [
    "# CS 437/5317 Deep Learning - Tutorial 3"
   ]
  },
  {
   "cell_type": "markdown",
   "metadata": {
    "heading_collapsed": true
   },
   "source": [
    "## Generators in Python"
   ]
  },
  {
   "cell_type": "code",
   "execution_count": 6,
   "metadata": {
    "ExecuteTime": {
     "end_time": "2019-02-14T19:46:57.608075Z",
     "start_time": "2019-02-14T19:46:57.582718Z"
    },
    "hidden": true
   },
   "outputs": [
    {
     "name": "stdout",
     "output_type": "stream",
     "text": [
      "0\n",
      "1\n",
      "2\n",
      "3\n",
      "4\n"
     ]
    }
   ],
   "source": [
    "def make_sequence1(n):\n",
    "    l = []\n",
    "    i = 0\n",
    "    while i < n:\n",
    "        l.append(i)\n",
    "        i += 1\n",
    "    return l\n",
    "\n",
    "for number in make_sequence1(5):\n",
    "    print(number)"
   ]
  },
  {
   "cell_type": "code",
   "execution_count": 7,
   "metadata": {
    "ExecuteTime": {
     "end_time": "2019-02-14T19:46:58.538763Z",
     "start_time": "2019-02-14T19:46:58.526934Z"
    },
    "hidden": true
   },
   "outputs": [
    {
     "name": "stdout",
     "output_type": "stream",
     "text": [
      "0\n",
      "1\n",
      "2\n",
      "3\n",
      "4\n"
     ]
    }
   ],
   "source": [
    "def make_sequence2(n):\n",
    "    i = 0\n",
    "    while i < n:\n",
    "        yield i\n",
    "        i += 1\n",
    "\n",
    "for number in make_sequence2(5):\n",
    "    print(number)"
   ]
  },
  {
   "cell_type": "code",
   "execution_count": 8,
   "metadata": {
    "ExecuteTime": {
     "end_time": "2019-02-14T19:47:03.191127Z",
     "start_time": "2019-02-14T19:47:01.087060Z"
    },
    "hidden": true
   },
   "outputs": [
    {
     "name": "stdout",
     "output_type": "stream",
     "text": [
      "263 µs ± 67.5 µs per loop (mean ± std. dev. of 7 runs, 1000 loops each)\n"
     ]
    }
   ],
   "source": [
    "%%timeit\n",
    "sum(make_sequence1(500))"
   ]
  },
  {
   "cell_type": "code",
   "execution_count": 9,
   "metadata": {
    "ExecuteTime": {
     "end_time": "2019-02-14T19:47:16.508030Z",
     "start_time": "2019-02-14T19:47:04.111943Z"
    },
    "hidden": true
   },
   "outputs": [
    {
     "name": "stdout",
     "output_type": "stream",
     "text": [
      "150 µs ± 36.3 µs per loop (mean ± std. dev. of 7 runs, 10000 loops each)\n"
     ]
    }
   ],
   "source": [
    "%%timeit\n",
    "sum(make_sequence2(500))"
   ]
  },
  {
   "cell_type": "markdown",
   "metadata": {
    "hidden": true
   },
   "source": [
    "__Let's see a simpler more elaborated example__"
   ]
  },
  {
   "cell_type": "code",
   "execution_count": 18,
   "metadata": {
    "ExecuteTime": {
     "end_time": "2019-02-14T19:55:16.567820Z",
     "start_time": "2019-02-14T19:55:16.553046Z"
    },
    "hidden": true
   },
   "outputs": [
    {
     "name": "stdout",
     "output_type": "stream",
     "text": [
      "inside 1\n",
      "outside\n",
      "alpha\n",
      "inside 2\n",
      "outside\n",
      "beta\n"
     ]
    }
   ],
   "source": [
    "def gen_func():\n",
    "    print('inside 1')\n",
    "    yield 'alpha'\n",
    "    print('inside 2')\n",
    "    yield 'beta'\n",
    "\n",
    "for x in gen_func():\n",
    "    print('outside')\n",
    "    print(x)"
   ]
  },
  {
   "cell_type": "markdown",
   "metadata": {
    "hidden": true
   },
   "source": [
    "__C++ has IO Streams and functional languages like Haskell/Closure have lazy evaluation.__\n",
    "\n",
    "__You can use Python generators to achieve both those things.__"
   ]
  },
  {
   "cell_type": "code",
   "execution_count": 14,
   "metadata": {
    "ExecuteTime": {
     "end_time": "2019-02-14T19:53:33.304170Z",
     "start_time": "2019-02-14T19:53:33.289723Z"
    },
    "hidden": true
   },
   "outputs": [],
   "source": [
    "with open('test.txt', 'r') as f:\n",
    "    lines_striped = (l.strip() for l in f)\n",
    "    words = (l.split() for l in lines_striped)\n",
    "    words = (w.lower() for l in words for w in l)\n",
    "    vocab = set(words)"
   ]
  },
  {
   "cell_type": "markdown",
   "metadata": {
    "heading_collapsed": true
   },
   "source": [
    "## Imports"
   ]
  },
  {
   "cell_type": "code",
   "execution_count": 29,
   "metadata": {
    "ExecuteTime": {
     "end_time": "2019-02-14T19:56:31.750732Z",
     "start_time": "2019-02-14T19:56:31.722977Z"
    },
    "hidden": true
   },
   "outputs": [],
   "source": [
    "from keras.datasets import mnist\n",
    "from keras.models import Model\n",
    "from keras.layers import Dense, Input, Conv2D, MaxPooling2D, Dropout, Flatten\n",
    "from keras.optimizers import Adam\n",
    "from keras.callbacks import ModelCheckpoint, EarlyStopping, CSVLogger, ReduceLROnPlateau, TensorBoard\n",
    "from keras.utils import plot_model, to_categorical\n",
    "import keras.backend as K\n",
    "\n",
    "from sklearn.model_selection import train_test_split\n",
    "from IPython.display import display\n",
    "\n",
    "import cv2\n",
    "import numpy as np\n",
    "import pandas as pd\n",
    "%matplotlib inline\n",
    "import matplotlib.pyplot as plt\n",
    "plt.style.use('seaborn')\n",
    "import seaborn as sns\n",
    "\n",
    "import os"
   ]
  },
  {
   "cell_type": "markdown",
   "metadata": {
    "heading_collapsed": true
   },
   "source": [
    "## Hyperparameters"
   ]
  },
  {
   "cell_type": "code",
   "execution_count": 22,
   "metadata": {
    "ExecuteTime": {
     "end_time": "2019-02-14T19:56:03.704930Z",
     "start_time": "2019-02-14T19:56:03.682166Z"
    },
    "hidden": true
   },
   "outputs": [],
   "source": [
    "batch_size = 32\n",
    "num_classes = 10\n",
    "class_labels = np.arange(0, num_classes, 1)\n",
    "epochs = 3\n",
    "input_shape = (28,28,1)\n",
    "\n",
    "images_dir = 'images/'\n",
    "model_name = 'tutorial_model'\n",
    "if not os.path.exists('./'+model_name):\n",
    "    os.mkdir(model_name)\n",
    "\n",
    "np.random.seed(42)"
   ]
  },
  {
   "cell_type": "markdown",
   "metadata": {
    "heading_collapsed": true
   },
   "source": [
    "## Load Data (Generators)"
   ]
  },
  {
   "cell_type": "code",
   "execution_count": 3,
   "metadata": {
    "ExecuteTime": {
     "end_time": "2019-02-14T16:25:51.873383Z",
     "start_time": "2019-02-14T16:25:51.689347Z"
    },
    "hidden": true,
    "scrolled": true
   },
   "outputs": [
    {
     "name": "stdout",
     "output_type": "stream",
     "text": [
      "(280, 2)\n"
     ]
    },
    {
     "data": {
      "text/html": [
       "<div>\n",
       "<style scoped>\n",
       "    .dataframe tbody tr th:only-of-type {\n",
       "        vertical-align: middle;\n",
       "    }\n",
       "\n",
       "    .dataframe tbody tr th {\n",
       "        vertical-align: top;\n",
       "    }\n",
       "\n",
       "    .dataframe thead th {\n",
       "        text-align: right;\n",
       "    }\n",
       "</style>\n",
       "<table border=\"1\" class=\"dataframe\">\n",
       "  <thead>\n",
       "    <tr style=\"text-align: right;\">\n",
       "      <th></th>\n",
       "      <th>filename</th>\n",
       "      <th>class</th>\n",
       "    </tr>\n",
       "  </thead>\n",
       "  <tbody>\n",
       "    <tr>\n",
       "      <th>0</th>\n",
       "      <td>abd</td>\n",
       "      <td>0</td>\n",
       "    </tr>\n",
       "    <tr>\n",
       "      <th>1</th>\n",
       "      <td>asd</td>\n",
       "      <td>1</td>\n",
       "    </tr>\n",
       "    <tr>\n",
       "      <th>2</th>\n",
       "      <td>asfwqe</td>\n",
       "      <td>2</td>\n",
       "    </tr>\n",
       "    <tr>\n",
       "      <th>3</th>\n",
       "      <td>werfd</td>\n",
       "      <td>3</td>\n",
       "    </tr>\n",
       "    <tr>\n",
       "      <th>4</th>\n",
       "      <td>scv</td>\n",
       "      <td>4</td>\n",
       "    </tr>\n",
       "  </tbody>\n",
       "</table>\n",
       "</div>"
      ],
      "text/plain": [
       "  filename  class\n",
       "0      abd      0\n",
       "1      asd      1\n",
       "2   asfwqe      2\n",
       "3    werfd      3\n",
       "4      scv      4"
      ]
     },
     "execution_count": 3,
     "metadata": {},
     "output_type": "execute_result"
    }
   ],
   "source": [
    "full_data = pd.read_csv('dataset.csv')\n",
    "print(full_data.shape)\n",
    "full_data.head()"
   ]
  },
  {
   "cell_type": "code",
   "execution_count": 4,
   "metadata": {
    "ExecuteTime": {
     "end_time": "2019-02-14T16:25:51.906623Z",
     "start_time": "2019-02-14T16:25:51.878839Z"
    },
    "hidden": true
   },
   "outputs": [
    {
     "name": "stdout",
     "output_type": "stream",
     "text": [
      "179 train samples\n",
      "45 validation samples\n",
      "56 test samples\n"
     ]
    }
   ],
   "source": [
    "train_set, test_set = train_test_split(full_data, test_size=0.2, shuffle=True)\n",
    "train_set, val_set = train_test_split(train_set, test_size=0.2, shuffle=True)\n",
    "\n",
    "print(train_set.shape[0], 'train samples')\n",
    "print(val_set.shape[0], 'validation samples')\n",
    "print(test_set.shape[0], 'test samples')"
   ]
  },
  {
   "cell_type": "code",
   "execution_count": 5,
   "metadata": {
    "ExecuteTime": {
     "end_time": "2019-02-14T16:25:52.830660Z",
     "start_time": "2019-02-14T16:25:52.810847Z"
    },
    "hidden": true
   },
   "outputs": [],
   "source": [
    "def get_sample(sample):\n",
    "    im = cv2.cvtColor(cv2.imread(images_dir+sample['filename']+'.jpg'), cv2.COLOR_BGR2RGB)\n",
    "    # any resizing / cropping here\n",
    "    im = im.reshape(input_shape)\n",
    "    im = im / 255.0\n",
    "    \n",
    "    label = np.zeros((num_classes,), dtype='int')\n",
    "    label[sample['class']] = 1\n",
    "    \n",
    "    return im, label\n",
    "    \n",
    "def data_generator(df, batch_size):\n",
    "    indexes = np.arange(0, len(df), batch_size)\n",
    "    \n",
    "    # Last value removed to prevent creation of a batch with size < batch_size \n",
    "    # incase the dataset can not be divided into the correct number of batches\n",
    "    # given the predefined batch_size\n",
    "    # This approach effectively reduces the number of batches by 1\n",
    "    \n",
    "    # So 5 if the len(df)/batchsize == 5.5\n",
    "    # instead of 6 which could be done if I replicated samples\n",
    "    \n",
    "    if len(df) % batch_size != 0:\n",
    "        indexes = indexes[:-1] \n",
    "    \n",
    "    while True: # 1 iteration represents 1 epoch\n",
    "        np.random.shuffle(indexes) # indexes shuffled for each epoch\n",
    "        for index in indexes: # 1 iteration represents 1 batch\n",
    "            batch_examples = df.iloc[index : index+batch_size].reset_index()\n",
    "                        \n",
    "            Xs = np.zeros((batch_size, *input_shape))\n",
    "            Ys = np.zeros((batch_size, num_classes))\n",
    "            for index, row in batch_examples.iterrows():\n",
    "                x, y = get_sample(row)\n",
    "                Xs[index, :, :, :] = x\n",
    "                Ys[index, :] = y\n",
    "            yield Xs, Ys"
   ]
  },
  {
   "cell_type": "code",
   "execution_count": 17,
   "metadata": {
    "ExecuteTime": {
     "end_time": "2019-02-14T16:28:27.078212Z",
     "start_time": "2019-02-14T16:28:27.071330Z"
    },
    "hidden": true
   },
   "outputs": [],
   "source": [
    "train_gen = data_generator(train_set, batch_size)\n",
    "val_gen = data_generator(val_set, batch_size)\n",
    "test_gen = data_generator(test_set, batch_size)"
   ]
  },
  {
   "cell_type": "markdown",
   "metadata": {
    "heading_collapsed": true
   },
   "source": [
    "## Build Model (Functional API + Layers API)"
   ]
  },
  {
   "cell_type": "code",
   "execution_count": 23,
   "metadata": {
    "ExecuteTime": {
     "end_time": "2019-02-14T19:56:05.922105Z",
     "start_time": "2019-02-14T19:56:05.573517Z"
    },
    "hidden": true
   },
   "outputs": [],
   "source": [
    "input_im = Input(shape=(input_shape), name='input_im')\n",
    "\n",
    "l = Conv2D(32, kernel_size=(3, 3), activation='relu')(input_im)\n",
    "l = Conv2D(64, (3, 3), activation='relu')(l)\n",
    "l = MaxPooling2D(pool_size=(2, 2))(l)\n",
    "l = Dropout(rate=0.25)(l)\n",
    "l = Flatten()(l)\n",
    "l = Dense(128, activation='relu')(l)\n",
    "l = Dropout(rate=0.5)(l)\n",
    "output_class = Dense(num_classes, activation='softmax')(l)\n",
    "\n",
    "model = Model(inputs=input_im, outputs=output_class)"
   ]
  },
  {
   "cell_type": "code",
   "execution_count": 24,
   "metadata": {
    "ExecuteTime": {
     "end_time": "2019-02-14T19:56:09.431154Z",
     "start_time": "2019-02-14T19:56:07.340516Z"
    },
    "hidden": true
   },
   "outputs": [
    {
     "name": "stdout",
     "output_type": "stream",
     "text": [
      "_________________________________________________________________\n",
      "Layer (type)                 Output Shape              Param #   \n",
      "=================================================================\n",
      "input_im (InputLayer)        (None, 28, 28, 1)         0         \n",
      "_________________________________________________________________\n",
      "conv2d_1 (Conv2D)            (None, 26, 26, 32)        320       \n",
      "_________________________________________________________________\n",
      "conv2d_2 (Conv2D)            (None, 24, 24, 64)        18496     \n",
      "_________________________________________________________________\n",
      "max_pooling2d_1 (MaxPooling2 (None, 12, 12, 64)        0         \n",
      "_________________________________________________________________\n",
      "dropout_1 (Dropout)          (None, 12, 12, 64)        0         \n",
      "_________________________________________________________________\n",
      "flatten_1 (Flatten)          (None, 9216)              0         \n",
      "_________________________________________________________________\n",
      "dense_1 (Dense)              (None, 128)               1179776   \n",
      "_________________________________________________________________\n",
      "dropout_2 (Dropout)          (None, 128)               0         \n",
      "_________________________________________________________________\n",
      "dense_2 (Dense)              (None, 10)                1290      \n",
      "=================================================================\n",
      "Total params: 1,199,882\n",
      "Trainable params: 1,199,882\n",
      "Non-trainable params: 0\n",
      "_________________________________________________________________\n"
     ]
    }
   ],
   "source": [
    "adam = Adam(lr=1e-3)\n",
    "model.compile(loss='categorical_crossentropy', \n",
    "              optimizer=adam, \n",
    "              metrics=['accuracy'])\n",
    "\n",
    "plot_model(model, model_name+'/'+model_name+'.png')\n",
    "model.summary()"
   ]
  },
  {
   "cell_type": "markdown",
   "metadata": {
    "heading_collapsed": true
   },
   "source": [
    "## Training"
   ]
  },
  {
   "cell_type": "code",
   "execution_count": 8,
   "metadata": {
    "ExecuteTime": {
     "end_time": "2019-02-14T16:50:39.957628Z",
     "start_time": "2019-02-14T16:50:39.937609Z"
    },
    "hidden": true
   },
   "outputs": [],
   "source": [
    "class LRTensorBoard(TensorBoard):\n",
    "    def __init__(self, *args, **kwargs):\n",
    "        super(LRTensorBoard, self).__init__(*args, **kwargs)\n",
    "\n",
    "    def on_epoch_end(self, epoch, logs=None):\n",
    "        logs.update({'lr': K.eval(self.model.optimizer.lr)})\n",
    "        super(LRTensorBoard, self).on_epoch_end(epoch, logs)"
   ]
  },
  {
   "cell_type": "code",
   "execution_count": 9,
   "metadata": {
    "ExecuteTime": {
     "end_time": "2019-02-14T16:51:28.210338Z",
     "start_time": "2019-02-14T16:50:46.745273Z"
    },
    "hidden": true
   },
   "outputs": [],
   "source": [
    "checkpoint = ModelCheckpoint(model_name+'/'+model_name+'-{epoch:02d}-{val_loss:.2f}.h5', \n",
    "                             monitor='val_loss', verbose=1, save_best_only=True, mode='auto')\n",
    "cvslogger = CSVLogger(model_name+'/logs.csv', separator=',', append=True)\n",
    "reducelr = ReduceLROnPlateau(monitor='val_loss', factor=0.2, patience=3, min_lr=0.000001, min_delta=0.03)\n",
    "tensorboard = LRTensorBoard(log_dir='./'+model_name, histogram_freq=1, write_graph=True, write_grads=1, \n",
    "                            batch_size=batch_size, write_images=True)\n",
    "\n",
    "callbacks = [checkpoint, tensorboard, cvslogger, reducelr]"
   ]
  },
  {
   "cell_type": "code",
   "execution_count": null,
   "metadata": {
    "hidden": true
   },
   "outputs": [],
   "source": [
    "hist = model.fit_generator(train_gen, epochs=epochs, steps_per_epoch=len(train_set)//batch_size, \n",
    "                           validation_data=val_gen, validation_steps=len(val_set)//batch_size, \n",
    "                           callbacks=callbacks, verbose=1)"
   ]
  },
  {
   "cell_type": "markdown",
   "metadata": {},
   "source": [
    "## Visualization of Model parameters"
   ]
  },
  {
   "cell_type": "markdown",
   "metadata": {
    "heading_collapsed": true
   },
   "source": [
    "### Tensorboard (computation graph + parameter distribution)"
   ]
  },
  {
   "cell_type": "markdown",
   "metadata": {
    "hidden": true
   },
   "source": [
    "The computations you'll use TensorFlow for - like training a massive deep neural network - can be complex and confusing. To make it easier to understand, debug, and optimize TensorFlow programs, we've included a suite of visualization tools called TensorBoard. You can use TensorBoard to visualize your TensorFlow graph, plot quantitative metrics about the execution of your graph, and show additional data like images that pass through it. When TensorBoard is fully configured, it looks like this:\n",
    "![](https://www.tensorflow.org/images/mnist_tensorboard.png)\n",
    "\n",
    "You can run TensorBoard using teh following command\n",
    "```tensorboard --logdir=path/to/log-directory\n",
    "```\n",
    "\n",
    "*Note: TensorBoard does not like to see multiple event files in the same directory. This can lead to you getting very gruesome curves on the display. So you should create a separate folder for each different example (for example, `summaries/first`, `summaries/second`, ...) to save data.*\n",
    "\n",
    "*Another thing to keep in mind is that, if you want to re-run an experiment (that is, saving an event file to an already populated folder), you have to make sure to first delete the existing event files.*"
   ]
  },
  {
   "cell_type": "markdown",
   "metadata": {
    "heading_collapsed": true
   },
   "source": [
    "### Learned Filters"
   ]
  },
  {
   "cell_type": "code",
   "execution_count": 25,
   "metadata": {
    "ExecuteTime": {
     "end_time": "2019-02-14T19:56:19.868010Z",
     "start_time": "2019-02-14T19:56:19.421688Z"
    },
    "hidden": true
   },
   "outputs": [],
   "source": [
    "model.load_weights('tutorial_model_mnist/tutorial_model_mnist-15-0.03.h5')"
   ]
  },
  {
   "cell_type": "code",
   "execution_count": 26,
   "metadata": {
    "ExecuteTime": {
     "end_time": "2019-02-14T19:56:22.263100Z",
     "start_time": "2019-02-14T19:56:22.225306Z"
    },
    "hidden": true
   },
   "outputs": [
    {
     "data": {
      "text/plain": [
       "[<tf.Variable 'conv2d_1/kernel:0' shape=(3, 3, 1, 32) dtype=float32_ref>,\n",
       " <tf.Variable 'conv2d_1/bias:0' shape=(32,) dtype=float32_ref>,\n",
       " <tf.Variable 'conv2d_2/kernel:0' shape=(3, 3, 32, 64) dtype=float32_ref>,\n",
       " <tf.Variable 'conv2d_2/bias:0' shape=(64,) dtype=float32_ref>,\n",
       " <tf.Variable 'dense_1/kernel:0' shape=(9216, 128) dtype=float32_ref>,\n",
       " <tf.Variable 'dense_1/bias:0' shape=(128,) dtype=float32_ref>,\n",
       " <tf.Variable 'dense_2/kernel:0' shape=(128, 10) dtype=float32_ref>,\n",
       " <tf.Variable 'dense_2/bias:0' shape=(10,) dtype=float32_ref>]"
      ]
     },
     "execution_count": 26,
     "metadata": {},
     "output_type": "execute_result"
    }
   ],
   "source": [
    "model.weights"
   ]
  },
  {
   "cell_type": "code",
   "execution_count": 27,
   "metadata": {
    "ExecuteTime": {
     "end_time": "2019-02-14T19:56:24.220164Z",
     "start_time": "2019-02-14T19:56:24.181928Z"
    },
    "hidden": true
   },
   "outputs": [
    {
     "data": {
      "text/plain": [
       "(3, 3, 1, 32)"
      ]
     },
     "execution_count": 27,
     "metadata": {},
     "output_type": "execute_result"
    }
   ],
   "source": [
    "w1 = model.get_weights()[0]\n",
    "w1.shape"
   ]
  },
  {
   "cell_type": "code",
   "execution_count": 30,
   "metadata": {
    "ExecuteTime": {
     "end_time": "2019-02-14T19:56:36.586397Z",
     "start_time": "2019-02-14T19:56:35.162818Z"
    },
    "hidden": true
   },
   "outputs": [
    {
     "data": {
      "image/png": "[encoded data removed]",
      "text/plain": [
       "<Figure size 1200x640 with 10 Axes>"
      ]
     },
     "metadata": {},
     "output_type": "display_data"
    }
   ],
   "source": [
    "fig, axes = plt.subplots(nrows=2, ncols=5, figsize=(15,8), dpi=80)\n",
    "\n",
    "for i,ax in enumerate(axes.flatten()):\n",
    "    ax.imshow(w1[:,:,0,i]);\n",
    "    ax.grid(False);\n",
    "    ax.axis('off');"
   ]
  },
  {
   "cell_type": "markdown",
   "metadata": {
    "heading_collapsed": true
   },
   "source": [
    "### Layer Activations"
   ]
  },
  {
   "cell_type": "code",
   "execution_count": 31,
   "metadata": {
    "ExecuteTime": {
     "end_time": "2019-02-14T20:28:44.877775Z",
     "start_time": "2019-02-14T20:28:43.850808Z"
    },
    "hidden": true
   },
   "outputs": [],
   "source": [
    "_, (x_test, y_test) = mnist.load_data()"
   ]
  },
  {
   "cell_type": "code",
   "execution_count": 34,
   "metadata": {
    "ExecuteTime": {
     "end_time": "2019-02-14T20:29:05.458264Z",
     "start_time": "2019-02-14T20:29:04.787256Z"
    },
    "hidden": true
   },
   "outputs": [
    {
     "data": {
      "image/png": "[encoded data removed]",
      "text/plain": [
       "<Figure size 576x396 with 1 Axes>"
      ]
     },
     "metadata": {},
     "output_type": "display_data"
    }
   ],
   "source": [
    "plt.imshow(x_test[0,:,:]);\n",
    "plt.gca().grid(False);"
   ]
  },
  {
   "cell_type": "code",
   "execution_count": 42,
   "metadata": {
    "ExecuteTime": {
     "end_time": "2019-02-14T20:31:39.923234Z",
     "start_time": "2019-02-14T20:31:39.898858Z"
    },
    "hidden": true
   },
   "outputs": [
    {
     "data": {
      "text/plain": [
       "array([7], dtype=int64)"
      ]
     },
     "execution_count": 42,
     "metadata": {},
     "output_type": "execute_result"
    }
   ],
   "source": [
    "model.predict(x_test[0,:,:].reshape((1,28,28,1))).argmax(axis=1)"
   ]
  },
  {
   "cell_type": "code",
   "execution_count": 39,
   "metadata": {
    "ExecuteTime": {
     "end_time": "2019-02-14T20:30:53.713630Z",
     "start_time": "2019-02-14T20:30:53.700688Z"
    },
    "hidden": true
   },
   "outputs": [],
   "source": [
    "new_model = Model(inputs=input_im, \n",
    "                  outputs=model.get_layer('conv2d_1').output)"
   ]
  },
  {
   "cell_type": "code",
   "execution_count": 49,
   "metadata": {
    "ExecuteTime": {
     "end_time": "2019-02-14T20:33:29.313786Z",
     "start_time": "2019-02-14T20:33:29.288319Z"
    },
    "hidden": true
   },
   "outputs": [
    {
     "data": {
      "text/plain": [
       "(1, 26, 26, 32)"
      ]
     },
     "execution_count": 49,
     "metadata": {},
     "output_type": "execute_result"
    }
   ],
   "source": [
    "con1_activations = new_model.predict(x_test[0,:,:].reshape((1,28,28,1)))\n",
    "con1_activations.shape"
   ]
  },
  {
   "cell_type": "code",
   "execution_count": 50,
   "metadata": {
    "ExecuteTime": {
     "end_time": "2019-02-14T20:33:55.920749Z",
     "start_time": "2019-02-14T20:33:51.380175Z"
    },
    "hidden": true
   },
   "outputs": [
    {
     "data": {
      "image/png": "[encoded data removed]",
      "text/plain": [
       "<Figure size 1200x1600 with 32 Axes>"
      ]
     },
     "metadata": {},
     "output_type": "display_data"
    }
   ],
   "source": [
    "fig, axes = plt.subplots(nrows=8, ncols=4, figsize=(15,20), dpi=80)\n",
    "\n",
    "for i,ax in enumerate(axes.flatten()):\n",
    "    ax.imshow(con1_activations[0,:,:,i]);\n",
    "    ax.grid(False);\n",
    "    ax.axis('off');"
   ]
  },
  {
   "cell_type": "code",
   "execution_count": 51,
   "metadata": {
    "ExecuteTime": {
     "end_time": "2019-02-14T20:34:32.387095Z",
     "start_time": "2019-02-14T20:34:32.378484Z"
    },
    "hidden": true
   },
   "outputs": [],
   "source": [
    "new_model = Model(inputs=input_im, \n",
    "                  outputs=model.get_layer('conv2d_2').output)"
   ]
  },
  {
   "cell_type": "code",
   "execution_count": 52,
   "metadata": {
    "ExecuteTime": {
     "end_time": "2019-02-14T20:34:34.736264Z",
     "start_time": "2019-02-14T20:34:34.678942Z"
    },
    "hidden": true
   },
   "outputs": [
    {
     "data": {
      "text/plain": [
       "(1, 24, 24, 64)"
      ]
     },
     "execution_count": 52,
     "metadata": {},
     "output_type": "execute_result"
    }
   ],
   "source": [
    "con1_activations = new_model.predict(x_test[0,:,:].reshape((1,28,28,1)))\n",
    "con1_activations.shape"
   ]
  },
  {
   "cell_type": "code",
   "execution_count": 53,
   "metadata": {
    "ExecuteTime": {
     "end_time": "2019-02-14T20:34:46.070334Z",
     "start_time": "2019-02-14T20:34:42.378651Z"
    },
    "hidden": true
   },
   "outputs": [
    {
     "data": {
      "image/png": "[encoded data removed]",
      "text/plain": [
       "<Figure size 1200x1600 with 32 Axes>"
      ]
     },
     "metadata": {},
     "output_type": "display_data"
    }
   ],
   "source": [
    "fig, axes = plt.subplots(nrows=8, ncols=4, figsize=(15,20), dpi=80)\n",
    "\n",
    "for i,ax in enumerate(axes.flatten()):\n",
    "    ax.imshow(con1_activations[0,:,:,i]);\n",
    "    ax.grid(False);\n",
    "    ax.axis('off');"
   ]
  },
  {
   "cell_type": "code",
   "execution_count": null,
   "metadata": {
    "hidden": true
   },
   "outputs": [],
   "source": []
  }
 ],
 "metadata": {
  "kernelspec": {
   "display_name": "Python 3",
   "language": "python",
   "name": "python3"
  },
  "language_info": {
   "codemirror_mode": {
    "name": "ipython",
    "version": 3
   },
   "file_extension": ".py",
   "mimetype": "text/x-python",
   "name": "python",
   "nbconvert_exporter": "python",
   "pygments_lexer": "ipython3",
   "version": "3.6.7"
  },
  "notify_time": "5",
  "toc": {
   "base_numbering": 1,
   "nav_menu": {},
   "number_sections": true,
   "sideBar": true,
   "skip_h1_title": false,
   "title_cell": "Table of Contents",
   "title_sidebar": "Contents",
   "toc_cell": false,
   "toc_position": {},
   "toc_section_display": true,
   "toc_window_display": false
  }
 },
 "nbformat": 4,
 "nbformat_minor": 2
}
