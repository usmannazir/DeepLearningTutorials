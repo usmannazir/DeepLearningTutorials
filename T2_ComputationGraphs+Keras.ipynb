{
 "cells": [
  {
   "cell_type": "markdown",
   "metadata": {},
   "source": [
    "# CS 437/5317 Deep Learning - Tutorial 3"
   ]
  },
  {
   "cell_type": "markdown",
   "metadata": {},
   "source": [
    "## Computation Graphs"
   ]
  },
  {
   "cell_type": "markdown",
   "metadata": {},
   "source": [
    "We discussed computation graphs in class, in context of Linear Models, Perceptrons and Neural Networks. Let's now look a closer at them. Consider this mathematical function:\n",
    "$$f(x, y, x) = (x + y) * z$$\n",
    "It consists of 2 binary operations, with the parentheses defining a notion of order of these operations. This expression can be represented by a simple computation graph.\n",
    "\n",
    "![](https://cdn-images-1.medium.com/max/1600/0*ohO11wTD8DCUMVR8)\n",
    "\n",
    "The advantage of this notation/framework is that it is very easy to notice the hierarchical nature of computations. We can represent it in a methematical notation as well:\n",
    "$$g(i, j) = i + j$$\n",
    "$$h(p, q) = p * q$$\n",
    "$$f(x, y, z) = h(g(x, y), z)$$\n",
    "\n",
    "With concrete numeric inputs this nested/hierarchical structure reveals its advantage. The overall computation (no matter how complex), can be broken down into smaller sub-computations. \n",
    "$$f(1, 2, 3) = h(g(1, 2), 3)$$\n",
    "$$g(1, 2) = 1 + 2 = 3$$\n",
    "$$f(1, 2, 3) = h(3, 3)$$\n",
    "$$h(3, 3) = 3*3 = 9$$\n",
    "$$f(1, 2, 3) = 9$$\n",
    "\n",
    "![](https://cdn-images-1.medium.com/max/1600/0*DxiGsw0MskmqsL2a)\n",
    "\n",
    "Many deep learning frameworks use this idea of computation graphs to represent computations so that teh smaller computations can be executed by specialized functions to speed them up. These graphs also allow the frameworks (like TensorFlow) to identify independant parts of the computation and run them on independant GPUs in parallel. \n",
    "\n",
    "Consider a different example, which is more relevant to our cause. \n",
    "$$f(x, y) = ax² + bxy + cy²$$\n",
    "Here $a$, $b$ and $c$ are scalars, and can be thought of as the weights or parameters of the model. \n",
    "![](https://cdn-images-1.medium.com/max/1600/0*qe8i0Cs1Hbs8MOrF)\n",
    "We can see that the scalars also show up as *source* nodes in the graph. Various techniques exist to compute the derivative of such graphs with respect to the parameters automatically. \n",
    "\n",
    "Now let's consider a more *real* example. A classifier which predicts a person's relationship status using some features about that person. This model will be a huge, complex, nested mess of an expression but we can turn it into a black-box:\n",
    "![](https://cdn-images-1.medium.com/max/1600/0*FdcwEBNZW7RKw2jj)\n",
    "For the simple purpose of feature selection or model evaluation, this picture of the process is a sufficient representation of the model. But if we need more insight into the model, for debugging maybe, we can get that too.\n",
    "![](https://cdn-images-1.medium.com/max/1600/1*H7ixk7g1mRkf77lHw6_dLQ.png)\n",
    "\n",
    "We can also go *even deeper*\n",
    "![](https://cdn-images-1.medium.com/max/1600/0*1psj0a2PsRE9DoHm)\n",
    "\n",
    "This notion of the computation graph is core to the design of TensorFlow. Nowadays we have higher-level wrapper APIs like Keras to access the model but the guts of the framework are still the same.\n",
    "\n",
    "*Details of this discussion can be found in this [article](https://medium.com/tebs-lab/deep-neural-networks-as-computational-graphs-867fcaa56c9)*"
   ]
  },
  {
   "cell_type": "markdown",
   "metadata": {
    "heading_collapsed": true
   },
   "source": [
    "## Imports"
   ]
  },
  {
   "cell_type": "code",
   "execution_count": 147,
   "metadata": {
    "ExecuteTime": {
     "end_time": "2019-02-07T20:22:18.905370Z",
     "start_time": "2019-02-07T20:22:18.874853Z"
    },
    "hidden": true
   },
   "outputs": [],
   "source": [
    "from keras.datasets import mnist\n",
    "from keras.models import Sequential\n",
    "from keras.layers import Dense\n",
    "from keras.optimizers import RMSprop\n",
    "from keras.utils import plot_model, to_categorical\n",
    "import keras.backend as K\n",
    "\n",
    "from sklearn.metrics import confusion_matrix\n",
    "from sklearn.model_selection import train_test_split\n",
    "from IPython.display import display\n",
    "\n",
    "import numpy as np\n",
    "import pandas as pd\n",
    "%matplotlib inline\n",
    "import matplotlib.pyplot as plt\n",
    "plt.style.use('seaborn')\n",
    "import seaborn as sns"
   ]
  },
  {
   "cell_type": "markdown",
   "metadata": {
    "heading_collapsed": true
   },
   "source": [
    "## Hyperarameters"
   ]
  },
  {
   "cell_type": "code",
   "execution_count": 140,
   "metadata": {
    "ExecuteTime": {
     "end_time": "2019-02-07T20:20:22.552954Z",
     "start_time": "2019-02-07T20:20:22.531179Z"
    },
    "hidden": true
   },
   "outputs": [],
   "source": [
    "batch_size = 128\n",
    "num_classes = 10\n",
    "class_labels = np.arange(0, num_classes, 1)\n",
    "epochs = 3"
   ]
  },
  {
   "cell_type": "markdown",
   "metadata": {
    "heading_collapsed": true
   },
   "source": [
    "## Load and Process Dataset"
   ]
  },
  {
   "cell_type": "markdown",
   "metadata": {
    "hidden": true
   },
   "source": [
    "Split between train, val and test sets"
   ]
  },
  {
   "cell_type": "code",
   "execution_count": 46,
   "metadata": {
    "ExecuteTime": {
     "end_time": "2019-02-07T19:47:35.811661Z",
     "start_time": "2019-02-07T19:47:35.483803Z"
    },
    "hidden": true
   },
   "outputs": [
    {
     "data": {
      "text/plain": [
       "((60000, 28, 28), (10000, 28, 28))"
      ]
     },
     "execution_count": 46,
     "metadata": {},
     "output_type": "execute_result"
    }
   ],
   "source": [
    "(x_train, y_train), (x_test, y_test) = mnist.load_data()\n",
    "x_train.shape, x_test.shape"
   ]
  },
  {
   "cell_type": "code",
   "execution_count": 47,
   "metadata": {
    "ExecuteTime": {
     "end_time": "2019-02-07T19:47:36.124171Z",
     "start_time": "2019-02-07T19:47:36.046034Z"
    },
    "hidden": true
   },
   "outputs": [
    {
     "data": {
      "text/plain": [
       "((48000, 28, 28), (12000, 28, 28))"
      ]
     },
     "execution_count": 47,
     "metadata": {},
     "output_type": "execute_result"
    }
   ],
   "source": [
    "x_train, x_val, y_train, y_val = train_test_split(x_train, y_train, test_size=0.2, shuffle=True)\n",
    "x_train.shape, x_val.shape"
   ]
  },
  {
   "cell_type": "code",
   "execution_count": 48,
   "metadata": {
    "ExecuteTime": {
     "end_time": "2019-02-07T19:47:36.686661Z",
     "start_time": "2019-02-07T19:47:36.671043Z"
    },
    "hidden": true
   },
   "outputs": [
    {
     "name": "stdout",
     "output_type": "stream",
     "text": [
      "48000 train samples\n",
      "12000 validation samples\n",
      "10000 test samples\n"
     ]
    }
   ],
   "source": [
    "print(x_train.shape[0], 'train samples')\n",
    "print(x_val.shape[0], 'validation samples')\n",
    "print(x_test.shape[0], 'test samples')"
   ]
  },
  {
   "cell_type": "code",
   "execution_count": 77,
   "metadata": {
    "ExecuteTime": {
     "end_time": "2019-02-07T19:59:34.171033Z",
     "start_time": "2019-02-07T19:59:33.671042Z"
    },
    "hidden": true
   },
   "outputs": [
    {
     "data": {
      "image/png": "[encoded data removed]",
      "text/plain": [
       "<Figure size 1280x560 with 10 Axes>"
      ]
     },
     "metadata": {},
     "output_type": "display_data"
    }
   ],
   "source": [
    "fig, axes = plt.subplots(nrows=2, ncols=5, figsize=(16,7), dpi=80)\n",
    "\n",
    "i = 0\n",
    "for r in range(2):\n",
    "    for c in range(5):\n",
    "        axes[r,c].imshow(x_train[i,:,:])\n",
    "        axes[r,c].grid(False)\n",
    "        axes[r,c].axis('off')\n",
    "        axes[r,c].set_title(f'Label: {y_train[i]}');\n",
    "        i += 1"
   ]
  },
  {
   "cell_type": "markdown",
   "metadata": {
    "hidden": true
   },
   "source": [
    "Reshape and mean-center images"
   ]
  },
  {
   "cell_type": "code",
   "execution_count": 78,
   "metadata": {
    "ExecuteTime": {
     "end_time": "2019-02-07T19:59:44.608799Z",
     "start_time": "2019-02-07T19:59:44.421231Z"
    },
    "hidden": true
   },
   "outputs": [],
   "source": [
    "x_train = x_train.reshape(48000, 28*28)\n",
    "x_val = x_val.reshape(12000, 28*28)\n",
    "x_test = x_test.reshape(10000, 28*28)\n",
    "\n",
    "x_train = x_train.astype('float32')\n",
    "x_val = x_val.astype('float32')\n",
    "x_test = x_test.astype('float32')\n",
    "\n",
    "x_train /= 255\n",
    "x_val /= 255\n",
    "x_test /= 255"
   ]
  },
  {
   "cell_type": "markdown",
   "metadata": {
    "hidden": true
   },
   "source": [
    "Convert labels into one-hot encoding"
   ]
  },
  {
   "cell_type": "code",
   "execution_count": 79,
   "metadata": {
    "ExecuteTime": {
     "end_time": "2019-02-07T19:59:45.811667Z",
     "start_time": "2019-02-07T19:59:45.780438Z"
    },
    "hidden": true
   },
   "outputs": [],
   "source": [
    "y_train = to_categorical(y_train, num_classes)\n",
    "y_val = to_categorical(y_val, num_classes)\n",
    "y_test = to_categorical(y_test, num_classes)"
   ]
  },
  {
   "cell_type": "markdown",
   "metadata": {
    "heading_collapsed": true
   },
   "source": [
    "## Build Model"
   ]
  },
  {
   "cell_type": "code",
   "execution_count": 141,
   "metadata": {
    "ExecuteTime": {
     "end_time": "2019-02-07T20:20:26.835780Z",
     "start_time": "2019-02-07T20:20:26.222037Z"
    },
    "hidden": true
   },
   "outputs": [
    {
     "name": "stdout",
     "output_type": "stream",
     "text": [
      "_________________________________________________________________\n",
      "Layer (type)                 Output Shape              Param #   \n",
      "=================================================================\n",
      "input_l (Dense)              (None, 50)                39250     \n",
      "_________________________________________________________________\n",
      "hidden_l (Dense)             (None, 50)                2550      \n",
      "_________________________________________________________________\n",
      "output_l (Dense)             (None, 10)                510       \n",
      "=================================================================\n",
      "Total params: 42,310\n",
      "Trainable params: 42,310\n",
      "Non-trainable params: 0\n",
      "_________________________________________________________________\n"
     ]
    }
   ],
   "source": [
    "model = Sequential(name='tutorial_model')\n",
    "\n",
    "model.add(Dense(50, activation='relu', input_shape=(784,), name='input_l'))\n",
    "model.add(Dense(50, activation='relu', name='hidden_l'))\n",
    "model.add(Dense(num_classes, activation='softmax', name='output_l'))\n",
    "\n",
    "plot_model(model, 'model.png', show_shapes=True)\n",
    "model.summary()"
   ]
  },
  {
   "cell_type": "code",
   "execution_count": 142,
   "metadata": {
    "ExecuteTime": {
     "end_time": "2019-02-07T20:20:28.721036Z",
     "start_time": "2019-02-07T20:20:28.632719Z"
    },
    "hidden": true
   },
   "outputs": [],
   "source": [
    "model.compile(loss='categorical_crossentropy',\n",
    "              optimizer='RMSprop',\n",
    "              metrics=['accuracy'])"
   ]
  },
  {
   "cell_type": "markdown",
   "metadata": {
    "heading_collapsed": true
   },
   "source": [
    "## Training"
   ]
  },
  {
   "cell_type": "code",
   "execution_count": 143,
   "metadata": {
    "ExecuteTime": {
     "end_time": "2019-02-07T20:20:39.620284Z",
     "start_time": "2019-02-07T20:20:32.399028Z"
    },
    "hidden": true,
    "scrolled": true
   },
   "outputs": [
    {
     "name": "stdout",
     "output_type": "stream",
     "text": [
      "Train on 48000 samples, validate on 12000 samples\n",
      "Epoch 1/3\n",
      "48000/48000 [==============================] - 3s 59us/step - loss: 0.4382 - acc: 0.8792 - val_loss: 0.2631 - val_acc: 0.9233\n",
      "Epoch 2/3\n",
      "48000/48000 [==============================] - 2s 40us/step - loss: 0.2096 - acc: 0.9388 - val_loss: 0.2013 - val_acc: 0.9406\n",
      "Epoch 3/3\n",
      "48000/48000 [==============================] - 2s 41us/step - loss: 0.1559 - acc: 0.9536 - val_loss: 0.1643 - val_acc: 0.9528\n"
     ]
    }
   ],
   "source": [
    "history = model.fit(x_train, y_train,\n",
    "                    batch_size=batch_size,\n",
    "                    epochs=epochs,\n",
    "                    validation_data=(x_val, y_val), \n",
    "                    verbose=1)"
   ]
  },
  {
   "cell_type": "code",
   "execution_count": 152,
   "metadata": {
    "ExecuteTime": {
     "end_time": "2019-02-07T20:23:42.094508Z",
     "start_time": "2019-02-07T20:23:41.182653Z"
    },
    "hidden": true
   },
   "outputs": [
    {
     "data": {
      "text/html": [
       "<div>\n",
       "<style scoped>\n",
       "    .dataframe tbody tr th:only-of-type {\n",
       "        vertical-align: middle;\n",
       "    }\n",
       "\n",
       "    .dataframe tbody tr th {\n",
       "        vertical-align: top;\n",
       "    }\n",
       "\n",
       "    .dataframe thead th {\n",
       "        text-align: right;\n",
       "    }\n",
       "</style>\n",
       "<table border=\"1\" class=\"dataframe\">\n",
       "  <thead>\n",
       "    <tr style=\"text-align: right;\">\n",
       "      <th></th>\n",
       "      <th>val_loss</th>\n",
       "      <th>val_acc</th>\n",
       "      <th>loss</th>\n",
       "      <th>acc</th>\n",
       "    </tr>\n",
       "  </thead>\n",
       "  <tbody>\n",
       "    <tr>\n",
       "      <th>0</th>\n",
       "      <td>0.263095</td>\n",
       "      <td>0.923333</td>\n",
       "      <td>0.438231</td>\n",
       "      <td>0.879229</td>\n",
       "    </tr>\n",
       "    <tr>\n",
       "      <th>1</th>\n",
       "      <td>0.201340</td>\n",
       "      <td>0.940583</td>\n",
       "      <td>0.209585</td>\n",
       "      <td>0.938833</td>\n",
       "    </tr>\n",
       "    <tr>\n",
       "      <th>2</th>\n",
       "      <td>0.164268</td>\n",
       "      <td>0.952750</td>\n",
       "      <td>0.155882</td>\n",
       "      <td>0.953604</td>\n",
       "    </tr>\n",
       "  </tbody>\n",
       "</table>\n",
       "</div>"
      ],
      "text/plain": [
       "   val_loss   val_acc      loss       acc\n",
       "0  0.263095  0.923333  0.438231  0.879229\n",
       "1  0.201340  0.940583  0.209585  0.938833\n",
       "2  0.164268  0.952750  0.155882  0.953604"
      ]
     },
     "metadata": {},
     "output_type": "display_data"
    },
    {
     "data": {
      "image/png": "[encoded data removed]",
      "text/plain": [
       "<Figure size 576x396 with 1 Axes>"
      ]
     },
     "metadata": {},
     "output_type": "display_data"
    },
    {
     "data": {
      "image/png": "[encoded data removed]",
      "text/plain": [
       "<Figure size 576x396 with 1 Axes>"
      ]
     },
     "metadata": {},
     "output_type": "display_data"
    }
   ],
   "source": [
    "h = pd.DataFrame(history.history)\n",
    "display(h)\n",
    "\n",
    "h[['val_loss','loss']].plot();\n",
    "plt.gca().set_xlabel('Epoch');\n",
    "\n",
    "h[['val_acc','acc']].plot();\n",
    "plt.gca().set_xlabel('Epoch');"
   ]
  },
  {
   "cell_type": "code",
   "execution_count": null,
   "metadata": {
    "hidden": true
   },
   "outputs": [],
   "source": []
  },
  {
   "cell_type": "markdown",
   "metadata": {
    "heading_collapsed": true
   },
   "source": [
    "## Model Evaluation"
   ]
  },
  {
   "cell_type": "code",
   "execution_count": 124,
   "metadata": {
    "ExecuteTime": {
     "end_time": "2019-02-07T20:07:46.772098Z",
     "start_time": "2019-02-07T20:07:46.522179Z"
    },
    "hidden": true
   },
   "outputs": [
    {
     "name": "stdout",
     "output_type": "stream",
     "text": [
      "10000/10000 [==============================] - 0s 22us/step\n",
      "Test loss: 0.2182283065840602\n",
      "Test accuracy: 0.9363\n"
     ]
    }
   ],
   "source": [
    "score = model.evaluate(x_test, y_test, \n",
    "                       verbose=1)\n",
    "print('Test loss:', score[0])\n",
    "print('Test accuracy:', score[1])"
   ]
  },
  {
   "cell_type": "code",
   "execution_count": 125,
   "metadata": {
    "ExecuteTime": {
     "end_time": "2019-02-07T20:07:48.459510Z",
     "start_time": "2019-02-07T20:07:48.303210Z"
    },
    "hidden": true
   },
   "outputs": [
    {
     "name": "stdout",
     "output_type": "stream",
     "text": [
      "10000/10000 [==============================] - 0s 14us/step\n"
     ]
    }
   ],
   "source": [
    "preds = model.predict(x_test, \n",
    "                      batch_size=batch_size, \n",
    "                      verbose=1)"
   ]
  },
  {
   "cell_type": "code",
   "execution_count": 126,
   "metadata": {
    "ExecuteTime": {
     "end_time": "2019-02-07T20:07:49.771954Z",
     "start_time": "2019-02-07T20:07:49.709656Z"
    },
    "hidden": true
   },
   "outputs": [
    {
     "data": {
      "text/plain": [
       "array([[ 960,    0,    0,    1,    0,    3,    8,    5,    3,    0],\n",
       "       [   0, 1115,    0,    5,    1,    0,    4,    2,    8,    0],\n",
       "       [   8,    2,  934,   20,    7,    3,   11,   22,   24,    1],\n",
       "       [   1,    1,   14,  952,    1,    8,    2,   20,    8,    3],\n",
       "       [   1,    2,    2,    1,  928,    0,   14,    5,    4,   25],\n",
       "       [   6,    1,    1,   36,    3,  810,   13,   10,    8,    4],\n",
       "       [   7,    3,    4,    3,    5,   12,  921,    3,    0,    0],\n",
       "       [   0,    9,   14,    5,    3,    0,    0,  982,    0,   15],\n",
       "       [   8,    4,    7,   29,    9,   21,   14,   18,  853,   11],\n",
       "       [   9,    6,    1,   14,   27,    4,    1,   35,    4,  908]],\n",
       "      dtype=int64)"
      ]
     },
     "execution_count": 126,
     "metadata": {},
     "output_type": "execute_result"
    }
   ],
   "source": [
    "c_mat = confusion_matrix(y_test.argmax(axis=1), \n",
    "                         preds.argmax(axis=1), \n",
    "                         labels=class_labels)\n",
    "c_mat"
   ]
  },
  {
   "cell_type": "code",
   "execution_count": 127,
   "metadata": {
    "ExecuteTime": {
     "end_time": "2019-02-07T20:07:51.850340Z",
     "start_time": "2019-02-07T20:07:51.615712Z"
    },
    "hidden": true
   },
   "outputs": [
    {
     "data": {
      "image/png": "[encoded data removed]",
      "text/plain": [
       "<Figure size 720x640 with 2 Axes>"
      ]
     },
     "metadata": {},
     "output_type": "display_data"
    }
   ],
   "source": [
    "fig, ax = plt.subplots(figsize=(9,8), dpi=80)\n",
    "sns.heatmap(c_mat, \n",
    "            xticklabels=class_labels, \n",
    "            yticklabels=class_labels,\n",
    "            ax=ax)\n",
    "ax.set(xlabel='Predicted Label', ylabel='True Label');"
   ]
  },
  {
   "cell_type": "markdown",
   "metadata": {
    "heading_collapsed": true
   },
   "source": [
    "## Making Predictions"
   ]
  },
  {
   "cell_type": "code",
   "execution_count": 128,
   "metadata": {
    "ExecuteTime": {
     "end_time": "2019-02-07T20:07:53.865878Z",
     "start_time": "2019-02-07T20:07:53.303256Z"
    },
    "hidden": true
   },
   "outputs": [
    {
     "data": {
      "image/png": "[encoded data removed]",
      "text/plain": [
       "<Figure size 1280x560 with 10 Axes>"
      ]
     },
     "metadata": {},
     "output_type": "display_data"
    }
   ],
   "source": [
    "fig, axes = plt.subplots(nrows=2, ncols=5, figsize=(16,7), dpi=80)\n",
    "\n",
    "i = 0\n",
    "for r in range(2):\n",
    "    for c in range(5):\n",
    "        axes[r,c].imshow(x_test[i].reshape((28,28)))\n",
    "        axes[r,c].grid(False)\n",
    "        axes[r,c].axis('off')\n",
    "        axes[r,c].set_title(f'Prediction: {preds[i,:].argmax()}, Truth: {y_test[i,:].argmax()}');\n",
    "        i += 1"
   ]
  },
  {
   "cell_type": "markdown",
   "metadata": {
    "heading_collapsed": true
   },
   "source": [
    "## Custom Loss Function"
   ]
  },
  {
   "cell_type": "code",
   "execution_count": 136,
   "metadata": {
    "ExecuteTime": {
     "end_time": "2019-02-07T20:19:52.658636Z",
     "start_time": "2019-02-07T20:19:52.638585Z"
    },
    "hidden": true
   },
   "outputs": [],
   "source": [
    "def custom_loss(yTrue, yPred):\n",
    "    return K.sum(K.log(yTrue) - K.log(yPred))\n",
    "\n",
    "def custom_MSE(yTrue, yPred):\n",
    "    return K.mean(K.pow(yTrue - yPred, 2))"
   ]
  },
  {
   "cell_type": "code",
   "execution_count": 137,
   "metadata": {
    "ExecuteTime": {
     "end_time": "2019-02-07T20:19:54.192843Z",
     "start_time": "2019-02-07T20:19:54.119498Z"
    },
    "hidden": true
   },
   "outputs": [],
   "source": [
    "opti = RMSprop(lr=0.001, rho=0.9, decay=0.0)\n",
    "\n",
    "model.compile(loss=customL_MSE,\n",
    "              optimizer=opti,\n",
    "              metrics=['accuracy'])"
   ]
  },
  {
   "cell_type": "code",
   "execution_count": null,
   "metadata": {
    "hidden": true
   },
   "outputs": [],
   "source": []
  },
  {
   "cell_type": "code",
   "execution_count": null,
   "metadata": {
    "hidden": true
   },
   "outputs": [],
   "source": []
  }
 ],
 "metadata": {
  "kernelspec": {
   "display_name": "Python [conda env:dl]",
   "language": "python",
   "name": "conda-env-dl-py"
  },
  "language_info": {
   "codemirror_mode": {
    "name": "ipython",
    "version": 3
   },
   "file_extension": ".py",
   "mimetype": "text/x-python",
   "name": "python",
   "nbconvert_exporter": "python",
   "pygments_lexer": "ipython3",
   "version": "3.6.7"
  },
  "notify_time": "5",
  "toc": {
   "base_numbering": 1,
   "nav_menu": {},
   "number_sections": true,
   "sideBar": true,
   "skip_h1_title": false,
   "title_cell": "Table of Contents",
   "title_sidebar": "Contents",
   "toc_cell": false,
   "toc_position": {},
   "toc_section_display": true,
   "toc_window_display": false
  }
 },
 "nbformat": 4,
 "nbformat_minor": 2
}
